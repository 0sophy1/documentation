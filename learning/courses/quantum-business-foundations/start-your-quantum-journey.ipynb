{
 "cells": [
  {
   "cell_type": "markdown",
   "id": "077cab43",
   "metadata": {
    "editable": true,
    "slideshow": {
     "slide_type": ""
    },
    "tags": []
   },
   "source": [
    "# Start your quantum journey\n",
    "\n",
    "## Get started\n",
    "\n",
    "This training is designed for both experts and non-experts who want to learn the basics of quantum computing to accelerate applications in their organization. It provides opportunities to learn about potential industry applications, quantum computing core concepts, and IBM Quantum products and services.\n",
    "\n",
    "#### Tips for navigating this course\n",
    "\n",
    "In this digital course, you can pace your learning however you prefer. If you need to leave the course, you can easily return later. To view the lessons in each module, click on the module title in the left-hand menu. From there, you can click on a lesson title to view the material. Lessons contain a combination of media. We recommend reading all text, not otherwise marked as optional, and watching all the videos. All links in this course are optional resources and references. When you have finished all of the lessons in a module, scroll down to the bottom of the screen to check the box, marking the module complete. You can also navigate between modules by using the **Previous** and **Next** buttons at the bottom of the page.\n",
    "\n",
    "The total duration is approximately 2–3 hours for reviewing the content directly in this course. However, visiting each link and reference may take additional time, depending on your level of interest in these resources.\n",
    "\n",
    "#### Earning the Quantum Business Foundations badge\n",
    "\n",
    "The last module of the course contains the final exam. You must complete all modules and pass the final exam in order to earn your IBM Quantum Business Foundations badge.\n",
    "\n",
    "![IBM Quantum Business Badge](/learning/images/courses/quantum-business-foundations/05B-QBF-3x.avif)\n",
    "\n",
    "## Course overview\n",
    "\n",
    "By the end of this course, you will be able to\n",
    "\n",
    "* Recognize the potential business use cases and impacts of quantum computing\n",
    "* Understand the current state and future of quantum computing\n",
    "* Evaluate news on quantum computing, including interpreting quantum computing terminology\n",
    "* Find key resources to learn more about quantum computing\n",
    "* Identify the steps that you can take to become quantum ready\n",
    "\n",
    "## Pre-course Survey\n",
    "\n",
    "Before starting, please take a moment to complete our [pre-course survey](https://your.feedback.ibm.com/jfe/form/SV_9vIQj1FJDUMGpcG), which is important to help improve our user experience."
   ]
  }
 ],
 "metadata": {
  "description": "provides opportunities to learn about potential industry applications, quantum computing core concepts, and IBM Quantum products and services",
  "kernelspec": {
   "display_name": "Python 3",
   "language": "python",
   "name": "python3"
  },
  "language_info": {
   "codemirror_mode": {
    "name": "ipython",
    "version": 3
   },
   "file_extension": ".py",
   "mimetype": "text/x-python",
   "name": "python",
   "nbconvert_exporter": "python",
   "pygments_lexer": "ipython3",
   "version": "3"
  },
  "title": "Start your Quantum journey",
  "widgets": {
   "application/vnd.jupyter.widget-state+json": {
    "state": {},
    "version_major": 2,
    "version_minor": 0
   }
  }
 },
 "nbformat": 4,
 "nbformat_minor": 5
}
