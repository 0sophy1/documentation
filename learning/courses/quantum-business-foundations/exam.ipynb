{
 "cells": [
  {
   "cell_type": "markdown",
   "id": "10b40d15-60c1-4f03-9484-73380fd029ed",
   "metadata": {
    "editable": true,
    "slideshow": {
     "slide_type": ""
    },
    "tags": []
   },
   "source": [
    "# Exam\n",
    "\n",
    "> [!CAUTION]\n",
    "> Do **NOT** upload these notebooks to the learning database.\n",
    "> Items marked with [] are multiselect questions. Items marked with () are single choice.\n",
    "> Items marked with X denote the correct questions. If the brackets are empty, the question is incorrect.\n",
    "\n",
    "This directory contains the source material for the badging exam at the end of\n",
    "the course. Since these exams are different objects in the database (made from\n",
    "many multiple-choice-question objects), they must be uploaded manually. For\n",
    "sake of organization, we still want the content here to be the source of truth,\n",
    "but any changes pushed to this folder will need to be manually copied over to\n",
    "the database."
   ]
  },
  {
   "cell_type": "markdown",
   "id": "5a2abf45-1829-4b05-bf74-fb35ee1ef0eb",
   "metadata": {
    "editable": true,
    "slideshow": {
     "slide_type": ""
    },
    "tags": []
   },
   "source": [
    "Select the correct answer or answers for each item below. You must answer at least 80% of questions completely correctly in order to obtain your badge. You may attempt this assessment multiple times. Upon successful completion, your badge will automatically be available on Credly, and you will receive an email with instructions on claiming it.\n",
    "Passing score> 12"
   ]
  },
  {
   "cell_type": "markdown",
   "id": "e12c45fc-e544-4706-9948-c2a3e2898f16",
   "metadata": {
    "editable": true,
    "slideshow": {
     "slide_type": ""
    },
    "tags": []
   },
   "source": [
    "Current classical computing power has reached a level of saturation showing that Moore's Law is coming (or has come) to an end.\n",
    "Options:\n",
    "1. [ ] True\n",
    "2. [ ] False"
   ]
  },
  {
   "cell_type": "markdown",
   "id": "c5a9ef88-e560-4a08-bcc4-f9d97772795d",
   "metadata": {
    "editable": true,
    "slideshow": {
     "slide_type": ""
    },
    "tags": []
   },
   "source": [
    "Which of the following statements support(s) a business case for quantum computing? Select all that apply.\n",
    "1. [ ] Enterprises are evolving from analyzing data to discovering new ways to solve problems.\n",
    "2. [ ] Industries are facing greater uncertainty and business models are more dependent on new technologies.\n",
    "3. [ ] Leading enterprises are already experimenting with real quantum computers today, and due to the steep learning curve, an early start on learning and experimentation can prove to be a competitive advantage."
   ]
  },
  {
   "cell_type": "markdown",
   "id": "fd91567c-6302-45d7-ac0f-04955a1ce279",
   "metadata": {
    "editable": true,
    "slideshow": {
     "slide_type": ""
    },
    "tags": []
   },
   "source": [
    "Which of the following words correctly complete the statement: Modern quantum computers are ________________, which requires that we use ________________.\n",
    "1. [ ] noisy, error mitigation\n",
    "2. [ ] fault-tolerant, error mitigation\n",
    "3. [ ] fault-tolerant, error correction\n",
    "4. [ ] noisy variational algorithms"
   ]
  },
  {
   "cell_type": "markdown",
   "id": "183570dd-42d8-42f8-bb16-578ba3fa29a3",
   "metadata": {
    "editable": true,
    "slideshow": {
     "slide_type": ""
    },
    "tags": []
   },
   "source": [
    "Which of the following is a potential application for quantum computing?\n",
    "1. [ ] Simulating quantum dynamics to advance materials discovery\n",
    "2. [ ] Discovering new drugs and protein structures\n",
    "3. [ ] Manaing risks and opportunities related to financial portfolios\n",
    "4. [ ] Processing and storing big data"
   ]
  },
  {
   "cell_type": "markdown",
   "id": "e434c30f-bb75-4484-afbe-1d898a0df900",
   "metadata": {
    "editable": true,
    "slideshow": {
     "slide_type": ""
    },
    "tags": []
   },
   "source": [
    "By simulating Monte Carlo sampling on a quantum computer, researchers found:\n",
    "1. [ ] You can get to a fixed confidence level faster with a quantum computer.\n",
    "2. [ ] For a fixed amount of time, a quantum computer can give you more confidence in your answer than a classical Monte Carlo simulation would.\n",
    "3. [ ] A quantum computer requires more samples than a classical computer would.\n",
    "4. [ ] Quantum computers could help improve mathematical models that predict possible outcomes of complicated decision trees to maximize profit in the financial industry."
   ]
  },
  {
   "cell_type": "markdown",
   "id": "467bf975-0ed4-4ce7-a8b4-3de01ab4c741",
   "metadata": {
    "editable": true,
    "slideshow": {
     "slide_type": ""
    },
    "tags": []
   },
   "source": [
    "Since quantum computers have not yet reached quantum advantage for commercial applications, the only relevant members of a quantum ecosystem are universities and research labs.\n",
    "1. [ ] True\n",
    "2. [ ] False"
   ]
  },
  {
   "cell_type": "markdown",
   "id": "c98c968c-7059-4405-bcd3-8d80dcbe5abd",
   "metadata": {
    "editable": true,
    "slideshow": {
     "slide_type": ""
    },
    "tags": []
   },
   "source": [
    "Quantum physics contains some counterintuitive ideas, such as:\n",
    "1. [ ] A physical system in a definite state can still behave randomly.\n",
    "2. [ ] Two systems that are too far apart to influence each other are somehow strongly correlated.\n",
    "3. [ ] Qubits can only represent a 0 or 1.\n",
    "4. [ ] It is possible to have a state in a quantum system that cannot be described as the product of the independent components of the qubits that make up the state."
   ]
  },
  {
   "cell_type": "markdown",
   "id": "02432809-d39e-419a-89c2-2a61de80458c",
   "metadata": {
    "editable": true,
    "slideshow": {
     "slide_type": ""
    },
    "tags": []
   },
   "source": [
    "To measure the performance of how good a quantum computer is, you only need to look at the qubit count.\n",
    "1. [ ] True\n",
    "2. [ ] False"
   ]
  },
  {
   "cell_type": "markdown",
   "id": "b14a386a-8a91-4d2f-9ac8-9d6ff5c1d22c",
   "metadata": {
    "editable": true,
    "slideshow": {
     "slide_type": ""
    },
    "tags": []
   },
   "source": [
    "Quantum readiness is when quantum computers are ready to run commercial applications.\n",
    "1. [ ] True\n",
    "2. [ ] False"
   ]
  },
  {
   "cell_type": "markdown",
   "id": "ab35a07b-a9b5-4cae-9b87-d0774de69ac0",
   "metadata": {
    "editable": true,
    "slideshow": {
     "slide_type": ""
    },
    "tags": []
   },
   "source": [
    "What does Responsible Quantum Computing entail?\n",
    "1. [ ] Making sure quantum use cases have high return on investment.\n",
    "2. [ ] Responsible QC is solely about making sure that in using Quantum, one is compliant with existing laws and regulations.\n",
    "3. [ ] Being aware of the power of the effects of QC and mitigating potential harms by promoting solutions that are proactively inclusive and accountable."
   ]
  },
  {
   "cell_type": "markdown",
   "id": "746810c0-e460-48be-8d54-191352f5afb2",
   "metadata": {
    "editable": true,
    "slideshow": {
     "slide_type": ""
    },
    "tags": []
   },
   "source": [
    "What actions should you consider taking to act in accordance with Responsible QC?\n",
    "1. [ ] Before deciding on a use case, consider conducting a stakeholder and impact assessment which incldes societal stakeholders and consider not choosing a use case with negative societal impact.\n",
    "2. [ ] Make sure you have defined clear principles and values for your use case exploration and development.\n",
    "3. [ ] Inform yourselves about responsible and acceptable use clauses.\n",
    "4. [ ] Before deciding on a use case, consider conducting a stakeholder and impact assessment which includes societal stakeholders and choosing the one with the highest return on investment.\n",
    "5. [ ] Make sure you speak realistically about your expectations from your QC research and about timelines in which you hope to use QC."
   ]
  },
  {
   "cell_type": "markdown",
   "id": "64c3a5df-9716-4b69-a46f-79e9e681a257",
   "metadata": {
    "editable": true,
    "slideshow": {
     "slide_type": ""
    },
    "tags": []
   },
   "source": [
    "Which of the following statements is/are true about using simulators in quantum computing? Select all that apply.\n",
    "1. [ ] Simulators are useful for initial debugging and small-scale practice calculations.\n",
    "2. [ ] Simulators are useful for utility-scale (127+ qubit) calculations.\n",
    "3. [ ] Simulators play a temporary role in quantum technology.\n",
    "4. [ ] No simulator built on any classical computer or GPU can simulate the full functionality of a highly-entangled 127-qubit quantum computer."
   ]
  },
  {
   "cell_type": "markdown",
   "id": "12ce5dcf-da57-4bda-8302-25c422c3d6c6",
   "metadata": {
    "editable": true,
    "slideshow": {
     "slide_type": ""
    },
    "tags": []
   },
   "source": [
    "Which of the following is an attribute of a promising quantum computing use case?\n",
    "1. [ ] Includes invention or re-design a quantum algorithm.\n",
    "2. [ ] Require quantum fault tolerance to achieve a result.\n",
    "3. [ ] Could be explored with a near-term classical-quantum hybrid approach.\n",
    "4. [ ] Involve the use of large volumes of data for inputs or processing."
   ]
  },
  {
   "cell_type": "markdown",
   "id": "5737947e-b95c-402b-9381-203762e1cb67",
   "metadata": {
    "editable": true,
    "slideshow": {
     "slide_type": ""
    },
    "tags": []
   },
   "source": [
    "Which of the following options is/are correct regarding the 100x100 Challenge?\n",
    "1. [ ] It is a challenge to the quantum community to see what can be done with useful quantum computing.\n",
    "2. [ ] It means using 100 or more qubits with a gate depth of 100 or more.\n",
    "3. [ ] It deals with \"utility scale\", a scale at which quantum computing becomes really useful.\n",
    "4. [ ] The challenge is the same thing as quantum advantage"
   ]
  },
  {
   "cell_type": "markdown",
   "id": "6ae9f5f3-cd76-47ef-b3c3-db265692c642",
   "metadata": {
    "editable": true,
    "slideshow": {
     "slide_type": ""
    },
    "tags": []
   },
   "source": [
    "Select the option(s) below that are realistic & responsible statements about quantum computing (as opposed to hype or incorrect statements).\n",
    "1. [ ] Quantum computing will fix global warming.\n",
    "2. [ ] Quantum computing may help humans improve logistics and energy efficiency, thereby reducing our impact on the planet.\n",
    "3. [ ] Quantum computing will fix world hunger.\n",
    "4. [ ] Quantum computing has applications in chemical simulation, including nitrogen fixation processes, which are critical for agriculture.\n",
    "5. [ ] Quantum computing has reached an era in which we can explore its useful applications.\n",
    "6. [ ] Current quantum computers beat classical computers at most things."
   ]
  }
 ],
 "metadata": {
  "title": "Exam",
  "description": "Take this exam to test your skills. This exam is intended to be taken after reading the lessons in this course. Once you have completed the exam, come back here to see your earned badge.",
  "kernelspec": {
   "display_name": "Python 3",
   "language": "python",
   "name": "python3"
  },
  "language_info": {
   "codemirror_mode": {
    "name": "ipython",
    "version": 3
   },
   "file_extension": ".py",
   "mimetype": "text/x-python",
   "name": "python",
   "nbconvert_exporter": "python",
   "pygments_lexer": "ipython3",
   "version": "3"
  },
  "widgets": {
   "application/vnd.jupyter.widget-state+json": {
    "state": {},
    "version_major": 2,
    "version_minor": 0
   }
  }
 },
 "nbformat": 4,
 "nbformat_minor": 4
}
